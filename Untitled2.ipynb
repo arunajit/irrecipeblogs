{
 "cells": [
  {
   "cell_type": "code",
   "execution_count": 1,
   "metadata": {},
   "outputs": [],
   "source": [
    "from collections import Counter\n",
    "import numpy as np\n",
    "import math\n",
    "import pandas as pd\n",
    "import re\n",
    "df = pd.read_csv('edited_mdf.csv')"
   ]
  },
  {
   "cell_type": "code",
   "execution_count": 2,
   "metadata": {},
   "outputs": [],
   "source": [
    "del df[df.columns[1]]\n",
    "del df[df.columns[0]]"
   ]
  },
  {
   "cell_type": "markdown",
   "metadata": {},
   "source": [
    "__*Cosine Similarity*__"
   ]
  },
  {
   "cell_type": "code",
   "execution_count": 3,
   "metadata": {},
   "outputs": [],
   "source": [
    "WORD = re.compile(r\"\\w+\")\n",
    "\n",
    "def get_cosine(vec1, vec2):\n",
    "    intersection = set(vec1.keys()) & set(vec2.keys())\n",
    "    numerator = sum([vec1[x] * vec2[x] for x in intersection])\n",
    "\n",
    "    sum1 = sum([vec1[x] ** 2 for x in list(vec1.keys())])\n",
    "    sum2 = sum([vec2[x] ** 2 for x in list(vec2.keys())])\n",
    "    denominator = math.sqrt(sum1) * math.sqrt(sum2)\n",
    "\n",
    "    if not denominator:\n",
    "        return 0.0\n",
    "    else:\n",
    "        return float(numerator) / denominator\n",
    "\n",
    "def text_to_vector(text):\n",
    "    words = WORD.findall(text)\n",
    "    return Counter(words)\n"
   ]
  },
  {
   "cell_type": "code",
   "execution_count": 4,
   "metadata": {},
   "outputs": [
    {
     "name": "stdout",
     "output_type": "stream",
     "text": [
      "Cosine Similarity: Enter the query...  chutney\n",
      "\n",
      "\n",
      "195                       nariyal chutney recipe\n",
      "197                     channa dal chutney recip\n",
      "204                chutney for mysore masala dos\n",
      "221                         allam chutney recipe\n",
      "227                          green mango chutney\n",
      "241                     groundnut chutney recipe\n",
      "244    south indian onion chutney for idli & dos\n",
      "282                   tomato onion chutney recip\n",
      "292                                 imli chutney\n",
      "316                                 hari chutney\n",
      "332          red chilli garlic chutney for chaat\n",
      "334        tangy tomato chutney for idli and dos\n",
      "345                       nariyal chutney recipe\n",
      "365                      schezwan chutney recipe\n",
      "400                      schezwan chutney recipe\n",
      "407                       ash gourd peel chutney\n",
      "415                        chilli garlic chutney\n",
      "418                          chutney pudi recipe\n",
      "577                     groundnut chutney recipe\n",
      "682                chutney for mysore masala dos\n",
      "693                capsicum tomato chutney recip\n",
      "726                                 hari chutney\n",
      "Name: title, dtype: object\n"
     ]
    }
   ],
   "source": [
    "query = input('Cosine Similarity: Enter the query...  ')\n",
    "cosines = []\n",
    "print('\\n')\n",
    "for i in range(len(df['title'])):\n",
    "    vector1 = text_to_vector(str(df['title'][i]))\n",
    "    vector2 = text_to_vector(query)\n",
    "\n",
    "    cosines.append(get_cosine(vector1, vector2))\n",
    "    \n",
    "top_2_idx = np.array(cosines).nonzero()\n",
    "for i in range((len(top_2_idx))):\n",
    "    out = df['title'][top_2_idx[i]]\n",
    "    print(out)\n",
    "    "
   ]
  },
  {
   "cell_type": "code",
   "execution_count": 5,
   "metadata": {},
   "outputs": [],
   "source": [
    "a = cosines\n",
    "top_2_idx = np.argsort(a)[-10:]\n",
    "top_2_values = [a[i] for i in top_2_idx]\n",
    "#print(top_2_idx)\n",
    "#print(top_2_values)"
   ]
  },
  {
   "cell_type": "code",
   "execution_count": 6,
   "metadata": {},
   "outputs": [
    {
     "name": "stdout",
     "output_type": "stream",
     "text": [
      "groundnut chutney recipe\n",
      "nariyal chutney recipe\n",
      "allam chutney recipe\n",
      "nariyal chutney recipe\n",
      "schezwan chutney recipe\n",
      "green mango chutney\n",
      "schezwan chutney recipe\n",
      "imli chutney\n",
      "hari chutney\n",
      "hari chutney\n"
     ]
    }
   ],
   "source": [
    "for i in range(len(top_2_idx)):\n",
    "    x = top_2_idx[i]\n",
    "    print(df['title'][x])"
   ]
  },
  {
   "cell_type": "markdown",
   "metadata": {},
   "source": [
    "__*Index based string matching*__"
   ]
  },
  {
   "cell_type": "code",
   "execution_count": 7,
   "metadata": {},
   "outputs": [
    {
     "name": "stdout",
     "output_type": "stream",
     "text": [
      "Index based: Enter the query...  paneer\n",
      "\n",
      "\n",
      "paneer bites\n",
      "paneer momo\n",
      "restaurant style paneer chilli dry\n",
      "how to make dry paneer bhurji recip\n",
      "karahi paneer\n",
      "methi paneer recipe\n",
      "paneer tikka gravy\n",
      "paneer pakoda\n",
      "how to make restaurant style paneer jalfrez\n",
      "paneer kathi roll\n",
      "paneer tikki recipe\n",
      "how to make paneer parath\n",
      "how to make grilled paneer sandwich recip\n",
      "paneer shimla mirch ki sabji\n",
      "paneer tikka gravy\n",
      "paneer tawa masala\n",
      "how to make paneer peas pulav recip\n",
      "restaurant style paneer chilli dry\n",
      "restaurant style paneer chilli dry\n",
      "easy achari paneer tikka on taw\n",
      "paneer potato cutlet\n",
      "paneer tikka kathi roll\n",
      "kaju paneer curry\n",
      "paneer jain recipe\n",
      "alu paneer frankie\n",
      "paneer kulcha naan\n",
      "paneer reshmi recipe\n",
      "paneer kofta curry\n",
      "how to make khoya paneer curr\n",
      "easy paneer chilli with gravy recip\n",
      "paneer cheela\n",
      "paneer payasam\n",
      "paneer schezwan\n",
      "recipe of paneer tikka on tawa\n",
      "how to make spicy paneer kolhapuri grav\n",
      "dhaba style paneer masala\n",
      "how to make dry paneer manchuria\n",
      "karahi paneer\n",
      "lasooni paneer recipe\n",
      "how to make palak paneer recipe restaurant styl\n",
      "nawabi paneer\n",
      "matar paneer ki sabji\n",
      "dahi paneer paratha\n",
      "street style paneer ki bhurji grav\n",
      "how to prepare paneer from..\n"
     ]
    }
   ],
   "source": [
    "query = input('Index based: Enter the query...  ')\n",
    "print('\\n')\n",
    "wordindex = []\n",
    "for i in range(len(df['title'])):\n",
    "    temp = list(enumerate(df['title'][i].split(' ')))\n",
    "    name = [item[1] for item in temp]\n",
    "    wordindex.append(name)\n",
    "    \n",
    "outprint = [wordindex[i] for i in range(len(wordindex)) if (query in wordindex[i])]\n",
    "for i in range(len(outprint)):\n",
    "    print(' '.join([str(elem) for elem in outprint[i]]) )\n"
   ]
  },
  {
   "cell_type": "markdown",
   "metadata": {},
   "source": [
    "<h1>Fuzzy String Matching</h1>\n",
    "<br>\n",
    "   1) W - Ratio\n",
    "<br>\n",
    "   2) Partial Ratio\n",
    "<br>\n",
    "   3) Token sort Ratio\n",
    "<br>\n",
    "   4) Token set Ratio"
   ]
  },
  {
   "cell_type": "code",
   "execution_count": 8,
   "metadata": {},
   "outputs": [
    {
     "name": "stdout",
     "output_type": "stream",
     "text": [
      "Enter the query...paneer\n",
      "\n",
      "\n",
      "[('paneer bites', 90), ('paneer momo', 90), ('restaurant style paneer chilli dry', 90), ('how to make dry paneer bhurji recip', 90), ('karahi paneer', 90)]\n",
      "('paneer bites', 90)\n",
      "\n",
      "\n",
      "[('paneer bites', 100), ('paneer momo', 100), ('restaurant style paneer chilli dry', 100), ('how to make dry paneer bhurji recip', 100), ('karahi paneer', 100)]\n",
      "('paneer bites', 100)\n",
      "\n",
      "\n",
      "[('paneer momo', 71), ('paneer bites', 67), ('karahi paneer', 63), ('paneer pakoda', 63), ('paneer cheela', 63)]\n",
      "('paneer momo', 71)\n",
      "\n",
      "\n",
      "[('paneer bites', 100), ('paneer momo', 100), ('restaurant style paneer chilli dry', 100), ('how to make dry paneer bhurji recip', 100), ('karahi paneer', 100)]\n",
      "('paneer bites', 100)\n",
      "\n",
      "\n"
     ]
    }
   ],
   "source": [
    "from fuzzywuzzy import fuzz\n",
    "from fuzzywuzzy import process\n",
    "\n",
    "str2Match = \"breakfast\"\n",
    "str2Match = str(input('Enter the query...'))\n",
    "print('\\n')\n",
    "strOptions = list(df['title'])\n",
    "\n",
    "#Other Ranking meas\n",
    "\n",
    "Ratios = process.extract(str2Match,strOptions,scorer=fuzz.WRatio)\n",
    "print(Ratios)\n",
    "highest = process.extractOne(str2Match,strOptions,scorer=fuzz.WRatio)\n",
    "print(highest)\n",
    "print('\\n')\n",
    "\n",
    "Ratios = process.extract(str2Match,strOptions,scorer=fuzz.partial_ratio)\n",
    "print(Ratios)\n",
    "highest = process.extractOne(str2Match,strOptions,scorer=fuzz.partial_ratio)\n",
    "print(highest)\n",
    "print('\\n')\n",
    "\n",
    "Ratios = process.extract(str2Match,strOptions,scorer=fuzz.token_sort_ratio)\n",
    "print(Ratios)\n",
    "highest = process.extractOne(str2Match,strOptions,scorer=fuzz.token_sort_ratio)\n",
    "print(highest)\n",
    "print('\\n')\n",
    "\n",
    "Ratios = process.extract(str2Match,strOptions,scorer=fuzz.token_set_ratio)\n",
    "print(Ratios)\n",
    "highest = process.extractOne(str2Match,strOptions,scorer=fuzz.token_set_ratio)\n",
    "print(highest)\n",
    "print('\\n')"
   ]
  },
  {
   "cell_type": "code",
   "execution_count": null,
   "metadata": {},
   "outputs": [],
   "source": []
  }
 ],
 "metadata": {
  "kernelspec": {
   "display_name": "Python 3",
   "language": "python",
   "name": "python3"
  },
  "language_info": {
   "codemirror_mode": {
    "name": "ipython",
    "version": 3
   },
   "file_extension": ".py",
   "mimetype": "text/x-python",
   "name": "python",
   "nbconvert_exporter": "python",
   "pygments_lexer": "ipython3",
   "version": "3.7.3"
  }
 },
 "nbformat": 4,
 "nbformat_minor": 2
}
