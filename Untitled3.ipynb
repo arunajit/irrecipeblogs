{
 "cells": [
  {
   "cell_type": "markdown",
   "metadata": {
    "id": "UIuGc9gMByOc"
   },
   "source": [
    "<h1> Hierarchical Agglomerative Clustering </h1>\n",
    "<br>"
   ]
  },
  {
   "cell_type": "code",
   "execution_count": null,
   "metadata": {
    "id": "irIi6Ms95qgE"
   },
   "outputs": [],
   "source": [
    "import pandas as pd"
   ]
  },
  {
   "cell_type": "markdown",
   "metadata": {
    "id": "5IUqAhGDGM60"
   },
   "source": [
    "#### Loading Scraped and processed data"
   ]
  },
  {
   "cell_type": "code",
   "execution_count": null,
   "metadata": {
    "id": "lz8mWtHs5sFo"
   },
   "outputs": [],
   "source": [
    "df = pd.read_csv(\"/content/drive/MyDrive/edited_mdf.csv\", encoding = \"ISO-8859-1\")"
   ]
  },
  {
   "cell_type": "code",
   "execution_count": null,
   "metadata": {
    "colab": {
     "base_uri": "https://localhost:8080/"
    },
    "id": "pcKgFnAE5-n3",
    "outputId": "16f5754c-1f42-4c28-983e-ef5e06f48bd4"
   },
   "outputs": [
    {
     "name": "stdout",
     "output_type": "stream",
     "text": [
      "32\n"
     ]
    }
   ],
   "source": [
    "df.head()\n",
    "print(len(df['cuisine'].unique()))"
   ]
  },
  {
   "cell_type": "code",
   "execution_count": null,
   "metadata": {
    "id": "K51nfPlX-J3q"
   },
   "outputs": [],
   "source": [
    "from sklearn.cluster import KMeans\n",
    "from sklearn.metrics import silhouette_samples, silhouette_score\n",
    "from sklearn.feature_extraction.text import CountVectorizer\n",
    "import matplotlib.pyplot as plt\n",
    "import matplotlib.cm as cm\n",
    "import numpy as np\n",
    "from sklearn.cluster import AgglomerativeClustering \n",
    "from sklearn.metrics.pairwise import cosine_similarity\n"
   ]
  },
  {
   "cell_type": "markdown",
   "metadata": {
    "id": "nbdYISjZGSiE"
   },
   "source": [
    "#### Vectorising the corpus for the further computations"
   ]
  },
  {
   "cell_type": "code",
   "execution_count": null,
   "metadata": {
    "colab": {
     "base_uri": "https://localhost:8080/"
    },
    "id": "rE_xT0loAqCa",
    "outputId": "d9d1e375-fef8-4f74-980b-68962f2c0c02"
   },
   "outputs": [
    {
     "name": "stdout",
     "output_type": "stream",
     "text": [
      "['aam', 'achar', 'achari', 'adai', 'adhirasam', 'akhrot', 'akki', 'allam', 'almond', 'alo', 'aloo', 'alu', 'amrakhand', 'amritsari', 'amti', 'and', 'appam', 'appe', 'apple', 'aratikaya', 'ash', 'at', 'atta', 'authentic', 'aval', 'avalakki', 'aviyal', 'baby', 'badam', 'badanekai', 'badusha', 'bagara', 'baigana', 'baingan', 'bajji', 'bajre', 'bake', 'baked', 'balehannu', 'balls', 'banana', 'banane', 'bangalore', 'bar', 'barfi', 'basic', 'basket', 'basundi', 'batata', 'bateta', 'bath', 'bati', 'batter', 'bean', 'beans', 'beerakaya', 'beetroot', 'bele', 'bendekai', 'bengali', 'benne', 'besan', 'besasn', 'bhaat', 'bhaja', 'bhaji', 'bhajiya', 'bhakri', 'bhara', 'bharwa', 'bhature', 'bhavana', 'bhel', 'bhindi', 'bhujia', 'bhurji', 'biriyani', 'biryani', 'biscuit', 'biscuits', 'bisi', 'bisibelabath', 'bites', 'bitter', 'black', 'blossom', 'bolu', 'bombay', 'bonda', 'boondi', 'boost', 'box', 'brea', 'bread', 'brinjal', 'brownies', 'bun', 'buns', 'burfi', 'burger', 'burnt', 'butter', 'butterscotch', 'cabbage', 'cak', 'cake', 'capsicum', 'caramel', 'carrot', 'cauliflower', 'chaat', 'chakkuli', 'chakli', 'cham', 'chana', 'channa', 'chapati', 'chasni', 'chatni', 'chawal', 'cheela', 'cheese', 'chekkalu', 'chhena', 'chhole', 'chikki', 'chilli', 'chintapandu', 'chip', 'chips', 'chitranna', 'chivda', 'choco', 'chocobar', 'chocolate', 'chocolaty', 'chole', 'chop', 'chunks', 'chura', 'churchur', 'churma', 'chutne', 'chutney', 'cilantro', 'classic', 'club', 'coconu', 'coconut', 'coins', 'colour', 'condensed', 'cook', 'cooke', 'cooked', 'cooker', 'cookie', 'cookies', 'corn', 'cornflakes', 'cotta', 'crea', 'cream', 'crisp', 'crispy', 'crunchy', 'cupcake', 'curd', 'curr', 'curry', 'custard', 'cutlet', 'cutlets', 'cutting', 'daal', 'dabeli', 'dahi', 'dal', 'daler', 'daliya', 'date', 'davanagere', 'deep', 'desi', 'dessert', 'dhaba', 'dhabeli', 'dharwad', 'dhokla', 'dilkush', 'dill', 'dip', 'diwani', 'do', 'dog', 'doodh', 'doodhi', 'dos', 'dosa', 'dosai', 'dose', 'double', 'drink', 'drinks', 'dry', 'dum', 'dumplings', 'easy', 'egg', 'eggless', 'eggs', 'falafel', 'falooda', 'faluda', 'farali', 'farsi', 'fenugreek', 'filter', 'finger', 'fingers', 'firni', 'flavoured', 'flour', 'food', 'for', 'frankie', 'fried', 'fritters', 'from', 'frooti', 'fruit', 'frutti', 'fry', 'gajar', 'garam', 'garelu', 'garli', 'garlic', 'gassi', 'gathia', 'gatte', 'gelati', 'ghee', 'ginger', 'gobhi', 'gobi', 'gojju', 'gold', 'golgappa', 'golla', 'goolgoola', 'gourd', 'grapefruit', 'grav', 'gravy', 'green', 'grilled', 'groundnut', 'gujarati', 'gujiya', 'gujrati', 'gulab', 'gulla', 'hagalkayi', 'hakka', 'halbai', 'haldiram', 'halwa', 'handi', 'hannu', 'hara', 'hari', 'hesaru', 'hittu', 'hom', 'homemade', 'honey', 'hot', 'how', 'huli', 'hyderabadi', 'ice', 'idli', 'idly', 'imli', 'immune', 'in', 'indian', 'instant', 'irani', 'ja', 'jackfruit', 'jain', 'jalebi', 'jalfrez', 'jamun', 'jeera', 'jhal', 'jini', 'jowar', 'juice', 'junnu', 'ka', 'kaali', 'kaapi', 'kabab', 'kacchi', 'kacha', 'kachiyathu', 'kachori', 'kadai', 'kadhi', 'kairi', 'kaju', 'kala', 'kalakand', 'kalanda', 'kalappam', 'kara', 'karahi', 'karanji', 'karela', 'kashayam', 'kashmiri', 'kathi', 'kathirikai', 'katori', 'kayirasa', 'ke', 'kele', 'kerala', 'kesar', 'kesari', 'ketchup', 'khaja', 'khajoor', 'khajur', 'khaman', 'khana', 'khandvi', 'khara', 'khasta', 'kheer', 'kheera', 'khichdi', 'khoya', 'ki', 'kidney', 'kids', 'koddel', 'kofta', 'kokum', 'kolhapuri', 'korma', 'kosambari', 'kothimbir', 'kottambari', 'kovakkai', 'kuchumber', 'kulambu', 'kulcha', 'kulche', 'kulfi', 'kumblakai', 'kurma', 'kuska', 'kuzhambu', 'lacha', 'lachha', 'laddu', 'ladoo', 'laduu', 'lasooni', 'lassi', 'lauki', 'lava', 'leaves', 'left', 'leftover', 'lentil', 'lime', 'lollipop', 'lot', 'low', 'lunch', 'macaroni', 'maggi', 'magic', 'maharashtrian', 'maida', 'majjige', 'make', 'maker', 'makhana', 'makhanwala', 'malabar', 'malai', 'malpua', 'malpura', 'mamidikaya', 'manchow', 'manchuria', 'manchurian', 'mangalore', 'mangalorean', 'mango', 'marble', 'masal', 'masala', 'masale', 'masrum', 'matar', 'mathri', 'mattu', 'mavina', 'mavinakayi', 'maw', 'mawa', 'mayo', 'mcaloo', 'meal', 'medu', 'meetha', 'meethe', 'menasinakai', 'methi', 'mexican', 'microwave', 'milagu', 'milk', 'milkmai', 'milkmaid', 'milkshake', 'mint', 'minute', 'mirapakaya', 'mirch', 'mirchi', 'mix', 'mixed', 'mixie', 'mixture', 'moglai', 'mohanthal', 'moist', 'molten', 'momo', 'momos', 'month', 'moong', 'mor', 'more', 'moru', 'mosaranna', 'motichoor', 'mousse', 'mozzarella', 'mug', 'mumbai', 'muri', 'murmura', 'murukku', 'mushroom', 'muthiya', 'mutter', 'mysore', 'na', 'naan', 'naariyal', 'nachos', 'namak', 'nankhatai', 'nariyal', 'nasta', 'nawabi', 'neer', 'nimbu', 'no', 'non', 'noodle', 'noodles', 'nool', 'north', 'nu', 'nuggekai', 'nuggets', 'nut', 'nutty', 'oatmeal', 'oats', 'obbattu', 'of', 'okra', 'omapodi', 'omelette', 'on', 'onion', 'or', 'over', 'paan', 'pachadi', 'paddu', 'padhir', 'pak', 'pakoda', 'pakode', 'pakora', 'palak', 'palkova', 'palya', 'pan', 'pancakes', 'panchamrut', 'paneer', 'panha', 'pani', 'paniyaram', 'panna', 'papad', 'papadum', 'papdi', 'pappu', 'papri', 'para', 'parantha', 'parath', 'paratha', 'parathe', 'parle', 'parotta', 'parsi', 'party', 'paruppu', 'pasta', 'patta', 'patties', 'pav', 'payasam', 'paysa', 'peanut', 'peas', 'peda', 'pedha', 'peel', 'peni', 'pepper', 'phirni', 'phool', 'pickle', 'pilaf', 'pineapple', 'pinwheels', 'pista', 'pithe', 'pizza', 'plain', 'plus', 'poda', 'poha', 'poli', 'pomegranate', 'pongal', 'pooja', 'poori', 'popsicle', 'porota', 'porridge', 'potat', 'potato', 'powde', 'powder', 'prepare', 'pressure', 'protein', 'puddin', 'pudding', 'pudi', 'puff', 'puffed', 'pulao', 'pulav', 'puli', 'pulihora', 'puliyodharai', 'puliyogare', 'pumpkin', 'punjabi', 'puran', 'puri', 'puttu', 'pyaz', 'quick', 'rabdi', 'radish', 'ragi', 'rait', 'raita', 'raj', 'rajasthani', 'rajma', 'rasam', 'rasayana', 'rasmalai', 'rava', 'ready', 'recip', 'recipe', 'recipes', 'red', 'reshmi', 'restaurant', 'ribbon', 'ric', 'rice', 'ridge', 'ring', 'rings', 'roasted', 'roll', 'rolls', 'roomali', 'rosogulla', 'roti', 'rotti', 'royal', 'saag', 'sabakki', 'sabji', 'sabudana', 'sabudane', 'sabzi', 'sadam', 'saffron', 'sago', 'sagu', 'sakkarai', 'salad', 'salan', 'salna', 'salsa', 'sama', 'samba', 'sambar', 'samosa', 'sandesh', 'sandige', 'sandwic', 'sandwich', 'sandwiches', 'saravana', 'sasmi', 'satyanarayan', 'sauc', 'sauce', 'schezwan', 'seeds', 'semiya', 'semolina', 'sesame', 'sev', 'seviyan', 'shaak', 'shahi', 'shakarpara', 'shavige', 'sheer', 'sheera', 'sheet', 'shimla', 'shrikand', 'simple', 'six', 'slice', 'snacks', 'soft', 'sooj', 'sooji', 'soppu', 'soup', 'sour', 'south', 'southekai', 'soya', 'spice', 'spiced', 'spicy', 'spinach', 'sponge', 'spring', 'sprouted', 'sprouts', 'stand', 'steamed', 'stew', 'sticky', 'stir', 'stove', 'strawberry', 'street', 'student', 'stuffed', 'styl', 'style', 'sugar', 'suji', 'super', 'suran', 'sweet', 'swiss', 'system', 'szechuan', 'tadka', 'tamarind', 'tamatar', 'tambli', 'tambuli', 'tandoori', 'tangy', 'taw', 'tawa', 'tea', 'tehri', 'temple', 'thakkali', 'thali', 'thalipeeth', 'thambittu', 'thattai', 'thenkuzhal', 'thepla', 'thokku', 'thoran', 'tiffin', 'tikka', 'tikki', 'til', 'tiranga', 'tirunelveli', 'to', 'toast', 'tomato', 'top', 'tove', 'traditional', 'tri', 'triple', 'tutti', 'twister', 'uddina', 'udupi', 'unniappam', 'upkari', 'upm', 'upma', 'upvasache', 'urad', 'uttapa', 'uttapam', 'vada', 'vadai', 'vadi', 'vangi', 'vankaya', 'vazhakkai', 'veg', 'vegetable', 'vegetarian', 'veggie', 'vendakkai', 'vermicelli', 'vidh', 'wafers', 'wale', 'wali', 'walnut', 'ways', 'wedge', 'white', 'with', 'without', 'yakhni', 'yeas', 'yeast', 'yennegai', 'yoghurt', 'yogurt']\n"
     ]
    }
   ],
   "source": [
    "s = []\n",
    "X = df['title']\n",
    "vectorizer = CountVectorizer()\n",
    "X = vectorizer.fit_transform(X)\n",
    "print(vectorizer.get_feature_names())\n"
   ]
  },
  {
   "cell_type": "markdown",
   "metadata": {
    "id": "lS-ZxudjFzLl"
   },
   "source": [
    "#### Find the optimal number of clusters using the sillhouette score"
   ]
  },
  {
   "cell_type": "code",
   "execution_count": null,
   "metadata": {
    "colab": {
     "base_uri": "https://localhost:8080/"
    },
    "id": "mgI4HVshA0tQ",
    "outputId": "ae8b37f1-d809-4731-f386-ab12f52fecfd"
   },
   "outputs": [
    {
     "name": "stdout",
     "output_type": "stream",
     "text": [
      "For n_clusters = 2 The average silhouette_score is : 0.06165364261430987\n",
      "For n_clusters = 3 The average silhouette_score is : 0.07910757004134152\n",
      "For n_clusters = 4 The average silhouette_score is : 0.08100501915592619\n",
      "For n_clusters = 5 The average silhouette_score is : 0.06373353957405292\n",
      "For n_clusters = 6 The average silhouette_score is : 0.0794486090002619\n",
      "For n_clusters = 7 The average silhouette_score is : 0.08146910800916704\n",
      "For n_clusters = 8 The average silhouette_score is : 0.061208846682004034\n",
      "For n_clusters = 9 The average silhouette_score is : 0.06280547403781743\n"
     ]
    }
   ],
   "source": [
    "for n_clusters in range(2, 10):\n",
    "    clusterer = AgglomerativeClustering(n_clusters=n_clusters, random_state=10)\n",
    "    cluster_labels = clusterer.fit_predict(X.todense())\n",
    "    silhouette_avg = silhouette_score(X.todense(), cluster_labels)\n",
    "    s.append(silhouette_avg)\n",
    "    print(\"For n_clusters =\", n_clusters,\n",
    "          \"The average silhouette_score is :\", silhouette_avg)"
   ]
  },
  {
   "cell_type": "markdown",
   "metadata": {
    "id": "1AqgFwo28OUx"
   },
   "source": [
    "#### Number of clusters through visualising a dendogram"
   ]
  },
  {
   "cell_type": "code",
   "execution_count": null,
   "metadata": {
    "id": "YpuD7Xtx8N5c"
   },
   "outputs": [],
   "source": [
    "import matplotlib.pyplot as plt\n",
    "from sklearn.cluster import AgglomerativeClustering \n",
    "from sklearn.preprocessing import StandardScaler, normalize \n",
    "from sklearn.metrics import silhouette_score \n",
    "import scipy.cluster.hierarchy as shc "
   ]
  },
  {
   "cell_type": "code",
   "execution_count": null,
   "metadata": {
    "colab": {
     "base_uri": "https://localhost:8080/",
     "height": 607
    },
    "id": "B-C3hUkr8YWY",
    "outputId": "a829e5c1-bae1-4647-ebae-8af13f751a81"
   },
   "outputs": [
    {
     "data": {
      "image/png": "[encoded data removed]",
      "text/plain": [
       "<Figure size 1440x720 with 1 Axes>"
      ]
     },
     "metadata": {
      "needs_background": "light",
      "tags": []
     },
     "output_type": "display_data"
    }
   ],
   "source": [
    "plt.figure(figsize =(20,10)) \n",
    "plt.title('Visualising the data') \n",
    "label=[str(i) for i in range(X.get_shape()[1])]\n",
    "linked=shc.linkage(X.toarray(), method ='complete',metric='cosine')\n",
    "Dendrogram = shc.dendrogram(linked)"
   ]
  },
  {
   "cell_type": "code",
   "execution_count": null,
   "metadata": {
    "colab": {
     "base_uri": "https://localhost:8080/"
    },
    "id": "gH5GqN7q8eqA",
    "outputId": "cce74cb0-37f5-4171-edaf-88dfec8d5bcb"
   },
   "outputs": [
    {
     "data": {
      "text/plain": [
       "7"
      ]
     },
     "execution_count": 15,
     "metadata": {
      "tags": []
     },
     "output_type": "execute_result"
    }
   ],
   "source": [
    "len(set(Dendrogram['color_list']))"
   ]
  },
  {
   "cell_type": "markdown",
   "metadata": {
    "id": "uqEjZOxjGecr"
   },
   "source": [
    "### Function to retrieve the optimal clusters"
   ]
  },
  {
   "cell_type": "code",
   "execution_count": null,
   "metadata": {
    "id": "4E0ydp2oTwRj"
   },
   "outputs": [],
   "source": [
    "def get_clusters(n_clusters):\n",
    "\n",
    "    model = AgglomerativeClustering(n_clusters=n_clusters, affinity='euclidean', linkage='ward')\n",
    "    model.fit_predict(X.todense())\n",
    "    labels = model.labels_\n",
    "    clustering_dict = model.__dict__\n",
    "    clusters = {}\n",
    "\n",
    "    for document_id,cluster_label in enumerate(labels):\n",
    "    if cluster_label not in clusters:\n",
    "        clusters[cluster_label] = []\n",
    "    clusters[cluster_label].append(document_id)\n",
    "\n",
    "    return(clusters)"
   ]
  },
  {
   "cell_type": "markdown",
   "metadata": {
    "id": "orHLgHaGGmjC"
   },
   "source": [
    "### Generate the recommendations for the query"
   ]
  },
  {
   "cell_type": "code",
   "execution_count": null,
   "metadata": {
    "id": "KQE5QQycUH8w"
   },
   "outputs": [],
   "source": [
    "def get_recommendation(query, clusters, n):\n",
    "    q = vectorizer.transform([query])\n",
    "    mat = cosine_similarity(q,X)\n",
    "    idx = list(np.argsort(mat[0]))\n",
    "    idx.reverse()\n",
    "\n",
    "    ms = idx[0]\n",
    "    for k, v in clusters.items():\n",
    "    if(ms in v):\n",
    "        cluster_number = k\n",
    "        break\n",
    "\n",
    "    rec_list = [i for i in idx if i in clusters[cluster_number]][0:n+1]\n",
    "    return(rec_list)\n"
   ]
  },
  {
   "cell_type": "markdown",
   "metadata": {
    "id": "8ov9P2JmFV-7"
   },
   "source": [
    "<h1> Search with query and find similar recommendations </h1>\n",
    "<br>\n",
    "Enter the required recipe to be found"
   ]
  },
  {
   "cell_type": "code",
   "execution_count": null,
   "metadata": {
    "colab": {
     "base_uri": "https://localhost:8080/"
    },
    "id": "WV-nZqqHTNWl",
    "outputId": "0198d653-814c-444a-8c1d-063bda093970"
   },
   "outputs": [
    {
     "name": "stdout",
     "output_type": "stream",
     "text": [
      "Enter Query..paneer\n"
     ]
    }
   ],
   "source": [
    "clusters = get_clusters(7)\n",
    "no_rec=10\n",
    "q = input(\"Enter Query..\")\n",
    "rl = get_recommendation(q, clusters, no_rec)"
   ]
  },
  {
   "cell_type": "code",
   "execution_count": null,
   "metadata": {
    "colab": {
     "base_uri": "https://localhost:8080/"
    },
    "id": "_Q1MvhwOVWje",
    "outputId": "a552f3cb-3b21-4f32-91c6-5713e4443c3f"
   },
   "outputs": [
    {
     "name": "stdout",
     "output_type": "stream",
     "text": [
      "Most relevant recipe   karahi paneer  ->  ---------- punjabi\n",
      "You may also like :\n",
      "paneer schezwan -> ---- indo chinese\n",
      "paneer cheela -> ---- north indian\n",
      "paneer momo -> ---- nepali\n",
      "paneer bites -> ---- Indian\n",
      "karahi paneer -> ---- punjabi\n",
      "paneer pakoda -> ---- Indian\n",
      "nawabi paneer -> ---- hyderabadi\n",
      "paneer tikka gravy -> ---- punjabi\n",
      "paneer tikki recipe -> ---- north indian\n",
      "paneer reshmi recipe -> ---- north indian\n"
     ]
    }
   ],
   "source": [
    "item=rl[0]\n",
    "print(\"Most relevant recipe  \",df[\"title\"][item],\" ->  ----------\",df[\"cuisine\"][item])\n",
    "print(\"You may also like :\")\n",
    "for i in range(1,len(rl)):\n",
    "    print(df[\"title\"][rl[i]],\"-> ----\",df[\"cuisine\"][rl[i]])\n"
   ]
  },
  {
   "cell_type": "markdown",
   "metadata": {
    "id": "mF5UwtpWEIgb"
   },
   "source": [
    "### Precision at K"
   ]
  },
  {
   "cell_type": "code",
   "execution_count": null,
   "metadata": {
    "colab": {
     "base_uri": "https://localhost:8080/"
    },
    "id": "8Tq91a1QMXxt",
    "outputId": "e4a0915f-b31f-4a7a-813f-bb7e2f6c9fcd"
   },
   "outputs": [
    {
     "name": "stdout",
     "output_type": "stream",
     "text": [
      "Precision at  10 is  0.2\n"
     ]
    }
   ],
   "source": [
    "#prec_at_k\n",
    "\n",
    "relev=0\n",
    "for i in range(1,len(rl)):\n",
    "    if df[\"cuisine\"][item]==df[\"cuisine\"][rl[i]]:\n",
    "        relev+=1\n",
    "prec_at_k=relev/no_rec\n",
    "print(\"Precision at \",no_rec,\"is \",prec_at_k)\n"
   ]
  }
 ],
 "metadata": {
  "colab": {
   "collapsed_sections": [],
   "name": "IR_paper_implementation.ipynb",
   "provenance": []
  },
  "kernelspec": {
   "display_name": "Python 3",
   "language": "python",
   "name": "python3"
  },
  "language_info": {
   "codemirror_mode": {
    "name": "ipython",
    "version": 3
   },
   "file_extension": ".py",
   "mimetype": "text/x-python",
   "name": "python",
   "nbconvert_exporter": "python",
   "pygments_lexer": "ipython3",
   "version": "3.7.3"
  }
 },
 "nbformat": 4,
 "nbformat_minor": 1
}
